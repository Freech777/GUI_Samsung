{
 "cells": [
  {
   "cell_type": "code",
   "execution_count": 15,
   "metadata": {},
   "outputs": [],
   "source": [
    "\n",
    "#%pip install ttkbootstrap"
   ]
  },
  {
   "cell_type": "code",
   "execution_count": 16,
   "metadata": {},
   "outputs": [
    {
     "ename": "NameError",
     "evalue": "name 'Scroll' is not defined",
     "output_type": "error",
     "traceback": [
      "\u001b[1;31m---------------------------------------------------------------------------\u001b[0m",
      "\u001b[1;31mNameError\u001b[0m                                 Traceback (most recent call last)",
      "Cell \u001b[1;32mIn[16], line 53\u001b[0m\n\u001b[0;32m     47\u001b[0m \u001b[38;5;66;03m#my_tab2(Interfaz \"Archivo\")\u001b[39;00m\n\u001b[0;32m     48\u001b[0m \n\u001b[0;32m     49\u001b[0m \n\u001b[0;32m     50\u001b[0m \u001b[38;5;66;03m#my_tab3(Interfaz \"AIMS\"(Advanced Instruction Manual System)o \"Sistema de Manual de Instrucciones Avanzado\")\u001b[39;00m\n\u001b[0;32m     51\u001b[0m \u001b[38;5;66;03m#Frame para las instrucciones\u001b[39;00m\n\u001b[0;32m     52\u001b[0m f8_scrolled_text \u001b[38;5;241m=\u001b[39m tb\u001b[38;5;241m.\u001b[39mScrolledText(my_tab3, wrap\u001b[38;5;241m=\u001b[39m\u001b[38;5;124m\"\u001b[39m\u001b[38;5;124mword\u001b[39m\u001b[38;5;124m\"\u001b[39m, height\u001b[38;5;241m=\u001b[39m\u001b[38;5;241m0\u001b[39m)\n\u001b[1;32m---> 53\u001b[0m f8_scrolled_text\u001b[38;5;241m.\u001b[39minsert(INSERT, Scroll\u001b[38;5;241m.\u001b[39mtxt)\n\u001b[0;32m     54\u001b[0m f8_scrolled_text\u001b[38;5;241m.\u001b[39mpack(side \u001b[38;5;241m=\u001b[39m \u001b[38;5;124m\"\u001b[39m\u001b[38;5;124mleft\u001b[39m\u001b[38;5;124m\"\u001b[39m, pady \u001b[38;5;241m=\u001b[39m \u001b[38;5;241m250\u001b[39m, padx \u001b[38;5;241m=\u001b[39m \u001b[38;5;241m250\u001b[39m, fill \u001b[38;5;241m=\u001b[39m \u001b[38;5;124m\"\u001b[39m\u001b[38;5;124mboth\u001b[39m\u001b[38;5;124m\"\u001b[39m, expand \u001b[38;5;241m=\u001b[39m \u001b[38;5;28;01mTrue\u001b[39;00m)\n\u001b[0;32m     55\u001b[0m f8_scrolled_text\u001b[38;5;241m.\u001b[39mconfig(state\u001b[38;5;241m=\u001b[39m\u001b[38;5;124m\"\u001b[39m\u001b[38;5;124mdisabled\u001b[39m\u001b[38;5;124m\"\u001b[39m)\n",
      "\u001b[1;31mNameError\u001b[0m: name 'Scroll' is not defined"
     ]
    }
   ],
   "source": [
    "#Librerias para la interfaz grafica\n",
    "import numpy as np\n",
    "import tkinter as tk\n",
    "import ttkbootstrap as tb\n",
    "\n",
    "#Recursos para la interfaz grafica\n",
    "from tkinter import *\n",
    "from ttkbootstrap.constants import *\n",
    "\n",
    "#Tema de la interfaz grafica totalmente personalizable\n",
    "root = tb.Window(themename = \"cyborg\")\n",
    "#Encabezado de la interfaz\n",
    "root.title('GUI Samsung Innovation Campus')\n",
    "#Tamano de la ventana en la interfaz\n",
    "root.geometry('1080x620')\n",
    "\n",
    "#Frame responsivo que se adapte al tamano de la dimensionalidad de la ventana\n",
    "my_frame = tb.Frame(root,bootstyle = 'cyborg')\n",
    "my_frame.pack(fill = \"both\", expand = True)\n",
    "\n",
    "#Funciones para la interfaz\n",
    "\n",
    "\n",
    "\n",
    "#Notebook para la interfaz\n",
    "my_notebook = tb.Notebook(my_frame,bootstyle = \"dark\",width = 1580, height = 820)\n",
    "my_notebook.pack(fill = \"both\", expand = True)\n",
    "\n",
    "#Pestañas de la interfaz\n",
    "my_tab1 = tb.Frame(my_notebook)\n",
    "my_tab2 = tb.Frame(my_notebook)\n",
    "my_tab3 = tb.Frame(my_notebook)\n",
    "\n",
    "my_label = Label(my_tab1,text = 'Intefaz para la prediccion de errores', font = ('Arial', 24, \"bold\"))\n",
    "my_label.pack(side = \"top\", pady = 30)\n",
    "\n",
    "my_notebook.add(my_tab1, text = 'Dato Unico')\n",
    "my_notebook.add(my_tab2, text = 'Archivo')\n",
    "my_notebook.add(my_tab3, text = 'AIMS')\n",
    "\n",
    "#my_tab1(Interfaz \"Dato Unico\")\n",
    "#Boton para calcular el error\n",
    "my_button = tb.Button(my_tab1,text = 'Calcular',style = 'primary')\n",
    "my_button.pack(side = \"bottom\", pady = 30)\n",
    "\n",
    "\n",
    "#my_tab2(Interfaz \"Archivo\")\n",
    "\n",
    "\n",
    "#my_tab3(Interfaz \"AIMS\"(Advanced Instruction Manual System)o \"Sistema de Manual de Instrucciones Avanzado\")\n",
    "#Frame para las instrucciones\n",
    "f8_scrolled_text = tb.ScrolledText(my_tab3, wrap=\"word\", height=0)\n",
    "f8_scrolled_text.insert(INSERT, Scroll.txt)\n",
    "f8_scrolled_text.pack(side = \"left\", pady = 250, padx = 250, fill = \"both\", expand = True)\n",
    "f8_scrolled_text.config(state=\"disabled\")\n",
    "\n",
    "\n",
    "\n",
    "#Mantendra la interfaz abierta\n",
    "root.mainloop()\n"
   ]
  }
 ],
 "metadata": {
  "kernelspec": {
   "display_name": "base",
   "language": "python",
   "name": "python3"
  },
  "language_info": {
   "codemirror_mode": {
    "name": "ipython",
    "version": 3
   },
   "file_extension": ".py",
   "mimetype": "text/x-python",
   "name": "python",
   "nbconvert_exporter": "python",
   "pygments_lexer": "ipython3",
   "version": "3.12.7"
  }
 },
 "nbformat": 4,
 "nbformat_minor": 2
}
