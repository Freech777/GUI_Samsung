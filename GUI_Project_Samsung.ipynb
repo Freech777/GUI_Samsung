{
 "cells": [
  {
   "cell_type": "code",
   "execution_count": 1,
   "metadata": {},
   "outputs": [],
   "source": [
    "\n",
    "#%pip install ttkbootstrap"
   ]
  },
  {
   "cell_type": "code",
   "execution_count": null,
   "metadata": {},
   "outputs": [],
   "source": []
  },
  {
   "cell_type": "code",
   "execution_count": 2,
   "metadata": {},
   "outputs": [],
   "source": [
    "#Librerias para la interfaz grafica\n",
    "import numpy as np\n",
    "import tkinter as tk\n",
    "import ttkbootstrap as tb\n",
    "\n",
    "#Recursos para la interfaz grafica\n",
    "from tkinter import *\n",
    "from ttkbootstrap.constants import *\n",
    "\n",
    "#Tema de la interfaz grafica totalmente personalizable\n",
    "root = tb.Window(themename = \"cyborg\")\n",
    "#Encabezado de la interfaz\n",
    "root.title('GUI Samsung Innovation Campus')\n",
    "#Tamano de la ventana en la interfaz\n",
    "root.geometry('1080x620')\n",
    "\n",
    "#Frame responsivo que se adapte al tamano de la dimensionalidad de la ventana\n",
    "my_frame = tb.Frame(root,bootstyle = 'cyborg')\n",
    "my_frame.pack(fill = \"both\", expand = True)\n",
    "\n",
    "#Funciones para la interfaz\n",
    "\n",
    "\n",
    "\n",
    "#Notebook para la interfaz\n",
    "my_notebook = tb.Notebook(my_frame,bootstyle = \"cyborg\",width = 1580, height = 820)\n",
    "my_notebook.pack(fill = \"both\", expand = True)\n",
    "\n",
    "#Pestañas de la interfaz\n",
    "my_tab1 = tb.Frame(my_notebook)\n",
    "my_tab2 = tb.Frame(my_notebook)\n",
    "my_tab3 = tb.Frame(my_notebook)\n",
    "\n",
    "my_label = Label(my_tab1,text = 'Intefaz para la prediccion de errores Samsung', font = ('Sharp sans', 24, \"bold\"))\n",
    "my_label.pack(side = \"top\", pady = 30)\n",
    "\n",
    "my_notebook.add(my_tab1, text = '\\n\\tDato Unico\\t\\n')\n",
    "my_notebook.add(my_tab2, text = '\\n\tArchivo\t\\n')\n",
    "my_notebook.add(my_tab3, text = '\\n\tAIMS\t\\n')\n",
    "\n",
    "#my_tab1(Interfaz \"Dato Unico\")\n",
    "#Boton para calcular el error\n",
    "my_button = tb.Button(my_tab1,text = 'Calcular',style = 'primary')\n",
    "my_button.pack(side = \"bottom\", pady = 120)\n",
    "\n",
    "my_label_t1 = Label(my_tab1,text = \"Probabilidad:\", font = ('Sharp sans', 16, \"bold\"))\n",
    "my_label_t1.place(x=50, y=100)\n",
    "\n",
    "#my_tab2(Interfaz \"Archivo\")\n",
    "\n",
    "\n",
    "#my_tab3(Interfaz \"AIMS\"(Advanced Instruction Manual System)o \"Sistema de Manual de Instrucciones Avanzado\")\n",
    "#Frame para las instrucciones\n",
    "f8_scrolled_text = tb.ScrolledText(my_tab3, wrap=\"word\", height=0)\n",
    "f8_scrolled_text.insert(INSERT, \"Bienvenido a la interfaz de AIMS\\n\\n\")\n",
    "f8_scrolled_text.pack(side = \"left\", pady = 250, padx = 250, fill = \"both\", expand = True)\n",
    "f8_scrolled_text.config(state=\"disabled\")\n",
    "\n",
    "\n",
    "\n",
    "#Mantendra la interfaz abierta\n",
    "root.mainloop()\n"
   ]
  }
 ],
 "metadata": {
  "kernelspec": {
   "display_name": "base",
   "language": "python",
   "name": "python3"
  },
  "language_info": {
   "codemirror_mode": {
    "name": "ipython",
    "version": 3
   },
   "file_extension": ".py",
   "mimetype": "text/x-python",
   "name": "python",
   "nbconvert_exporter": "python",
   "pygments_lexer": "ipython3",
   "version": "3.12.7"
  }
 },
 "nbformat": 4,
 "nbformat_minor": 2
}
