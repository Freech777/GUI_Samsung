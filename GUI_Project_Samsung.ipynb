{
 "cells": [
  {
   "cell_type": "code",
   "execution_count": 14,
   "metadata": {},
   "outputs": [
    {
     "name": "stdout",
     "output_type": "stream",
     "text": [
      "Requirement already satisfied: ttkbootstrap in c:\\users\\freem\\anaconda3\\lib\\site-packages (1.10.1)\n",
      "Requirement already satisfied: pillow>=8.2.0 in c:\\users\\freem\\anaconda3\\lib\\site-packages (from ttkbootstrap) (10.4.0)\n"
     ]
    }
   ],
   "source": [
    "! pip install ttkbootstrap"
   ]
  },
  {
   "cell_type": "code",
   "execution_count": 15,
   "metadata": {},
   "outputs": [],
   "source": [
    "import numpy as np\n",
    "import tkinter as tk\n",
    "import ttkbootstrap as tb\n",
    "\n",
    "from tkinter import *\n",
    "from ttkbootstrap.constants import *"
   ]
  },
  {
   "cell_type": "code",
   "execution_count": 17,
   "metadata": {},
   "outputs": [],
   "source": [
    "#Tema de la interfaz grafica totalmente personalizable\n",
    "root = tb.Window(themename = \"solar\")\n",
    "\n",
    "#Encabezado de la interfaz\n",
    "root.title('GUI Samsung Innovation Campus')\n",
    "#Tamano de la ventana en la interfaz\n",
    "root.geometry('1080x620')\n",
    "\n",
    "my_label = tb.Label(text = 'Intefaz para analisis de errores', font = ('Helvetica', 20),bootstyle = \"default\")\n",
    "my_label.pack(pady = 50)\n",
    "\n",
    "my_button = tb.Button(text = 'Success',bootstyle = \"success\")\n",
    "my_button.pack(pady = 10)\n",
    "root.mainloop()"
   ]
  }
 ],
 "metadata": {
  "kernelspec": {
   "display_name": "base",
   "language": "python",
   "name": "python3"
  },
  "language_info": {
   "codemirror_mode": {
    "name": "ipython",
    "version": 3
   },
   "file_extension": ".py",
   "mimetype": "text/x-python",
   "name": "python",
   "nbconvert_exporter": "python",
   "pygments_lexer": "ipython3",
   "version": "3.12.7"
  }
 },
 "nbformat": 4,
 "nbformat_minor": 2
}
