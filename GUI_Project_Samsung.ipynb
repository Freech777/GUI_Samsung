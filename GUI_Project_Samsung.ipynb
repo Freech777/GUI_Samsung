{
 "cells": [
  {
   "cell_type": "code",
   "execution_count": 1,
   "metadata": {},
   "outputs": [],
   "source": [
    "\n",
    "#%pip install ttkbootstrap"
   ]
  },
  {
   "cell_type": "markdown",
   "metadata": {},
   "source": [
    "## Librerias"
   ]
  },
  {
   "cell_type": "code",
   "execution_count": 2,
   "metadata": {},
   "outputs": [],
   "source": [
    "#Librerias para la interfaz grafica\n",
    "import numpy as np\n",
    "import tkinter as tk\n",
    "import ttkbootstrap as tb\n",
    "import os\n",
    "#Recursos para la interfaz grafica\n",
    "from tkinter import *\n",
    "from ttkbootstrap.constants import *\n",
    "from tkinter import messagebox\n",
    "from tkinter import filedialog\n",
    "from PIL import Image, ImageTk\n"
   ]
  },
  {
   "cell_type": "markdown",
   "metadata": {},
   "source": [
    "## Funciones a llamar"
   ]
  },
  {
   "cell_type": "code",
   "execution_count": 3,
   "metadata": {},
   "outputs": [],
   "source": [
    "#Funciones para la interfaz\n",
    "\n",
    "def seleccionar_archivo():\n",
    "    archivo = filedialog.askopenfilename(\n",
    "        filetypes=[(\"Archivos CSV\", \"*.csv\")],  # Solo archivos CSV\n",
    "        title=\"Selecciona un archivo CSV\"\n",
    "    )\n",
    "    if archivo:  # Si el usuario seleccionó un archivo\n",
    "        entry_var_arch.set(archivo)\n",
    "        \n",
    "        \n",
    "def selec_caracter(x):\n",
    "    for widget in frame_inputs.winfo_children():\n",
    "        widget.destroy()\n",
    "    \n",
    "    try:\n",
    "        cantidad = int(menu_caract.get())\n",
    "        for i in range(cantidad):\n",
    "            label = tb.Label(frame_inputs, text=f\"Caracteristica {i+1}:\")\n",
    "            label.grid(row=i, column=0, padx=5, pady=5)\n",
    "            entry = tb.Entry(frame_inputs)\n",
    "            entry.grid(row=i, column=1, padx=5, pady=5)\n",
    "    except ValueError:\n",
    "        pass  \n",
    "     \n",
    "     \n",
    "# Función para agregar imagen de fondo en cada pestaña\n",
    "def fondo(frame, imagen_path):\n",
    "    canvas = tb.Canvas(frame, width=1580, height=820)\n",
    "    canvas.pack(fill=\"both\", expand=True)\n",
    "\n",
    "    # Cargar la imagen\n",
    "    img = Image.open(imagen_path)\n",
    "    img = img.resize((1180, 720))\n",
    "    fondo_img = ImageTk.PhotoImage(img)\n",
    "    \n",
    "    # Agregar imagen al canvas\n",
    "    canvas.create_image(0, 0, image=fondo_img, anchor=\"nw\")\n",
    "    canvas.image = fondo_img  # Evita que la imagen se elimine\n",
    "\n",
    "    return canvas"
   ]
  },
  {
   "cell_type": "markdown",
   "metadata": {},
   "source": [
    "## Ventana principal y pestañas"
   ]
  },
  {
   "cell_type": "code",
   "execution_count": null,
   "metadata": {},
   "outputs": [],
   "source": [
    "#Tema de la interfaz grafica totalmente personalizable\n",
    "root = tb.Window(themename = \"cyborg\")\n",
    "#Encabezado de la interfaz\n",
    "root.title('GUI Samsung Innovation Campus')\n",
    "#Tamano de la ventana en la interfaz\n",
    "root.geometry('1180x720')\n",
    "#Se bloquea el tamano de la ventana\n",
    "root.resizable(False,False)\n",
    "\n",
    "#Frame responsivo que se adapte al tamano de la dimensionalidad de la ventana\n",
    "my_frame = tb.Frame(root,bootstyle = 'cyborg')\n",
    "my_frame.pack(fill = \"both\", expand = True)\n",
    "\n",
    "#Notebook para la interfaz\n",
    "my_notebook = tb.Notebook(my_frame,bootstyle = \"cyborg\",width = 1580, height = 820)\n",
    "my_notebook.pack(fill = \"both\", expand = True)\n",
    "\n",
    "#Pestañas de la interfaz\n",
    "my_tab1 = tb.Frame(my_notebook)\n",
    "my_tab2 = tb.Frame(my_notebook)\n",
    "my_tab3 = tb.Frame(my_notebook)\n",
    "\n",
    "#Agregar nombres a las pestañas\n",
    "my_notebook.add(my_tab1, text = '\\n\\tDato Unico\\t\\n')\n",
    "my_notebook.add(my_tab2, text = '\\n\tArchivo\t\\n')\n",
    "my_notebook.add(my_tab3, text = '\\n\tAIMS\t\\n')\n",
    "\n",
    "#Aplicacion de la imagen de fondo en cada pestaña\n",
    "canva1 = fondo(my_tab1, 'Back.jpg')\n",
    "canva2 = fondo(my_tab2, 'Back.jpg')\n",
    "canva3 = fondo(my_tab3, 'Back.jpg')"
   ]
  },
  {
   "cell_type": "markdown",
   "metadata": {},
   "source": [
    "## Pestaña #1"
   ]
  },
  {
   "cell_type": "code",
   "execution_count": 5,
   "metadata": {},
   "outputs": [],
   "source": [
    "#my_tab1(Interfaz \"Dato Unico\")\n",
    "#Boton para calcular el error\n",
    "button_t1 = tb.Button(my_tab1,text = 'Calcular',style = 'primary')\n",
    "button_t1.place(relx=0.5, rely=0.9, anchor=\"center\")\n",
    "\n",
    "label_t1 = Label(my_tab1,text = \"Probabilidad:\", font = ('Sharp sans', 16, \"bold\"))\n",
    "label_t1.place(relx=0.2, rely=0.9, anchor=\"center\")\n",
    "\n",
    "label_t2 = Label(my_tab1,text = \"Tiempo:\", font = ('Sharp sans', 16, \"bold\"))\n",
    "label_t2.place(relx=0.75, rely=0.9, anchor=\"center\")\n",
    "\n",
    "label_title = Label(my_tab1,text = 'Samsung Innovation Campus', font = ('Sharp sans', 24, \"bold\"))\n",
    "label_title.pack(side = \"top\", pady = 30)\n",
    "\n",
    "label_caracteristicas = Label(my_tab1,text = 'Seleccione cuantas caracteristicas desea:', font = ('Sharp sans', 16, \"bold\"))\n",
    "label_caracteristicas.place(relx=0.5, rely=0.2, anchor=\"center\")\n",
    "\n",
    "menu_caract = tb.Combobox(my_tab1,values = [1,2,3,4,5])\n",
    "menu_caract.place(relx=0.5, rely=0.3, anchor=\"center\")\n",
    "menu_caract.bind(\"<<ComboboxSelected>>\", selec_caracter)\n",
    "\n",
    "frame_inputs = tb.Frame(my_tab1)\n",
    "frame_inputs.place(relx=0.5, rely=0.5, anchor=\"center\")\n"
   ]
  },
  {
   "cell_type": "markdown",
   "metadata": {},
   "source": [
    "## Pestaña #2"
   ]
  },
  {
   "cell_type": "code",
   "execution_count": 6,
   "metadata": {},
   "outputs": [],
   "source": [
    "#my_tab2(Interfaz \"Archivo\")\n",
    "label_arch_f2 = Label(my_tab2,text = 'Introduzca el archivo:', font = ('Sharp sans', 16, \"bold\"))\n",
    "label_arch_f2.place(relx=0.2, rely=0.2, anchor=\"center\")\n",
    "\n",
    "label_direc_f2 = Label(my_tab2, text = 'Introduzca el directorio:', font = ('Sharp sans', 16, \"bold\"))\n",
    "label_direc_f2.place(relx=0.2, rely=0.4, anchor=\"center\")\n",
    "\n",
    "label_name_f2 = Label(my_tab2,text = 'Introduzca el nombre:', font = ('Sharp sans', 16, \"bold\"))\n",
    "label_name_f2.place(relx=0.2, rely=0.6, anchor=\"center\")\n",
    "\n",
    "entry_var_arch = tb.StringVar()\n",
    "entry_var_direc = tb.StringVar()\n",
    "entry_var_name = tb.StringVar()\n",
    "\n",
    "entry_arch = tb.Entry(my_tab2, textvariable=entry_var_arch, width=50)\n",
    "entry_arch.place(relx=0.46, rely=0.2, anchor=\"center\")\n",
    "\n",
    "btn_arch = tb.Button(my_tab2, text=\"Buscar Archivo\", bootstyle=\"primary\",command=seleccionar_archivo)\n",
    "btn_arch.place(relx=0.7, rely=0.2, anchor=\"center\")\n",
    "\n",
    "entry_direc = tb.Entry(my_tab2, textvariable=entry_var_direc, width=50)\n",
    "entry_direc.place(relx=0.46, rely=0.4, anchor=\"center\")\n",
    "\n",
    "btn_direc = tb.Button(my_tab2, text=\"Directorio\", bootstyle=\"primary\")\n",
    "btn_direc.place(relx=0.7, rely=0.4, anchor=\"center\")\n",
    "\n",
    "entry_name = tb.Entry(my_tab2, textvariable=entry_var_name, width=50)\n",
    "entry_name.place(relx=0.46, rely=0.6, anchor=\"center\")\n",
    "\n",
    "btn_name = tb.Button(my_tab2, text=\"Aceptar\", bootstyle=\"primary\")\n",
    "btn_name.place(relx=0.7, rely=0.6, anchor=\"center\")"
   ]
  },
  {
   "cell_type": "markdown",
   "metadata": {},
   "source": [
    "## Pestaña #3"
   ]
  },
  {
   "cell_type": "code",
   "execution_count": 7,
   "metadata": {},
   "outputs": [],
   "source": [
    "#my_tab3(Interfaz \"AIMS\"(Advanced Instruction Manual System)o \"Sistema de Manual de Instrucciones Avanzado\")\n",
    "#Frame para las instrucciones\n",
    "f8_scrolled_text = tb.ScrolledText(my_tab3, wrap=\"word\", height=0)\n",
    "f8_scrolled_text.insert(INSERT, \"Bienvenido a la interfaz de AIMS\\n\\n\")\n",
    "f8_scrolled_text.pack(side = \"left\", pady = 250, padx = 250, fill = \"both\", expand = True)\n",
    "f8_scrolled_text.config(state=\"disabled\")\n"
   ]
  },
  {
   "cell_type": "markdown",
   "metadata": {},
   "source": [
    "## Fin del codigo"
   ]
  },
  {
   "cell_type": "code",
   "execution_count": 8,
   "metadata": {},
   "outputs": [],
   "source": [
    "#Mantendra la interfaz abierta\n",
    "root.mainloop()\n"
   ]
  }
 ],
 "metadata": {
  "kernelspec": {
   "display_name": "base",
   "language": "python",
   "name": "python3"
  },
  "language_info": {
   "codemirror_mode": {
    "name": "ipython",
    "version": 3
   },
   "file_extension": ".py",
   "mimetype": "text/x-python",
   "name": "python",
   "nbconvert_exporter": "python",
   "pygments_lexer": "ipython3",
   "version": "3.12.7"
  }
 },
 "nbformat": 4,
 "nbformat_minor": 2
}
